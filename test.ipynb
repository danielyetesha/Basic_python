{
 "cells": [
  {
   "cell_type": "code",
   "execution_count": 2,
   "metadata": {},
   "outputs": [],
   "source": [
    "def greet_customer():\n",
    "    print(\"welcome to the bank!\")"
   ]
  },
  {
   "cell_type": "code",
   "execution_count": 2,
   "metadata": {},
   "outputs": [
    {
     "name": "stdout",
     "output_type": "stream",
     "text": [
      "The area of the circle with radius 21.3 is:1425.31\n"
     ]
    }
   ],
   "source": [
    "#!/usr/bin/env python3\n",
    "# A simple Python program to demonstrate key components\n",
    "# Import necessary module\n",
    "import math\n",
    "# Function to calculate the area of a circle\n",
    "def calculate_area(radius):\n",
    "    return math.pi * radius ** 2\n",
    "    # Main function to run the program\n",
    "def main():\n",
    "    # Input: radius of the circle\n",
    "    radius = float(input(\"Enter the radius of the circle: \"))\n",
    "    # Calculate area\n",
    "    area = calculate_area(radius)\n",
    "    # Output the result\n",
    "    print(f\"The area of the circle with radius {radius} is:{area:.2f}\")\n",
    "    # Ensure the script is run directly\n",
    "if __name__ == \"__main__\":\n",
    "    main()"
   ]
  }
 ],
 "metadata": {
  "kernelspec": {
   "display_name": "base",
   "language": "python",
   "name": "python3"
  },
  "language_info": {
   "codemirror_mode": {
    "name": "ipython",
    "version": 3
   },
   "file_extension": ".py",
   "mimetype": "text/x-python",
   "name": "python",
   "nbconvert_exporter": "python",
   "pygments_lexer": "ipython3",
   "version": "3.12.4"
  }
 },
 "nbformat": 4,
 "nbformat_minor": 2
}
