{
 "cells": [
  {
   "cell_type": "code",
   "execution_count": 2,
   "metadata": {},
   "outputs": [],
   "source": [
    "def greet_customer():\n",
    "    print(\"welcome to the bank!\")"
   ]
  },
  {
   "cell_type": "code",
   "execution_count": 1,
   "metadata": {},
   "outputs": [
    {
     "name": "stdout",
     "output_type": "stream",
     "text": [
      "The area of the circle with radius 11.2 is:394.08\n"
     ]
    }
   ],
   "source": [
    "#!/usr/bin/env python3\n",
    "# A simple Python program to demonstrate key components\n",
    "# Import necessary module\n",
    "import math\n",
    "# Function to calculate the area of a circle\n",
    "def calculate_area(radius):\n",
    "    return math.pi * radius ** 2\n",
    "    # Main function to run the program\n",
    "def main():\n",
    "    # Input: radius of the circle\n",
    "    radius = float(input(\"Enter the radius of the circle: \"))\n",
    "    # Calculate area\n",
    "    area = calculate_area(radius)\n",
    "    # Output the result\n",
    "    print(f\"The area of the circle with radius {radius} is:{area:.2f}\")\n",
    "    # Ensure the script is run directly\n",
    "if __name__ == \"__main__\":\n",
    "    main()"
   ]
  },
  {
   "cell_type": "code",
   "execution_count": 2,
   "metadata": {},
   "outputs": [
    {
     "name": "stdout",
     "output_type": "stream",
     "text": [
      "Welcome, Alice!\n"
     ]
    }
   ],
   "source": [
    "account_holder = \"Alice\"\n",
    "account_message = f\"Welcome, {account_holder}!\"\n",
    "print(account_message) # Output: Welcome, Alice!\n"
   ]
  },
  {
   "cell_type": "code",
   "execution_count": 3,
   "metadata": {},
   "outputs": [
    {
     "name": "stdout",
     "output_type": "stream",
     "text": [
      "Thank you John Doe for your transaction of $200.50.\n"
     ]
    }
   ],
   "source": [
    "account_name = \"John Doe\"\n",
    "transaction = 200.50\n",
    "receipt = f\"Thank you {account_name} for your transaction of ${transaction:.2f}.\"\n",
    "print(receipt) "
   ]
  },
  {
   "cell_type": "code",
   "execution_count": 9,
   "metadata": {},
   "outputs": [
    {
     "name": "stdout",
     "output_type": "stream",
     "text": [
      "Interest after $2 years: 200.0\n"
     ]
    }
   ],
   "source": [
    "principal =  float(input(\"Enter a principal: \")) \n",
    "rate = float(input(\"Enter a rate: \")) \n",
    "time =  int(input(\"Enter a time: \"))\n",
    "interest = principal * rate * time\n",
    "print(f\"Interest after ${time} years:\", interest) "
   ]
  },
  {
   "cell_type": "code",
   "execution_count": null,
   "metadata": {},
   "outputs": [],
   "source": []
  }
 ],
 "metadata": {
  "kernelspec": {
   "display_name": "base",
   "language": "python",
   "name": "python3"
  },
  "language_info": {
   "codemirror_mode": {
    "name": "ipython",
    "version": 3
   },
   "file_extension": ".py",
   "mimetype": "text/x-python",
   "name": "python",
   "nbconvert_exporter": "python",
   "pygments_lexer": "ipython3",
   "version": "3.12.4"
  }
 },
 "nbformat": 4,
 "nbformat_minor": 2
}
